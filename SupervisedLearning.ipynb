{
 "cells": [
  {
   "cell_type": "markdown",
   "metadata": {},
   "source": [
    "##### Machine learning is the science of making computers learn without the need to be explicitly programmed."
   ]
  },
  {
   "cell_type": "markdown",
   "metadata": {},
   "source": [
    "##### Supervised learning algorithms are the algorithms which learn from input to output mappings. Basically, they learn from examples where we give them the input and also we give the correct output from which they gradually and are able to make accurate predictions on any new inputs they encounter."
   ]
  },
  {
   "cell_type": "markdown",
   "metadata": {},
   "source": [
    "##### Ex:- Speech recognition, translation, online advertising, spam filter, etc."
   ]
  },
  {
   "cell_type": "markdown",
   "metadata": {},
   "source": [
    "##### There are two types of supervised learning algorithms: classification and regression.\n",
    "##### Classification: In classification what we do is classify the input into one or more categories. Classification is basically discrete as there a finite number of outputs possible.\n",
    "##### Regression: In regression we produce a number or any other value which is continuous. It has infinite number of possible outputs."
   ]
  },
  {
   "cell_type": "markdown",
   "metadata": {},
   "source": [
    "##### What the classification algorithms do is decide a boundary line for each category."
   ]
  },
  {
   "cell_type": "markdown",
   "metadata": {},
   "source": [
    "##### In unsupervised learning we are not given any output labels for the input. Instead the unsupervised learning algorithm tries to find something interesting like a pattern in the data. This is different supervised learning because we ourselves don't know what the right answer is for the patterns so we use unsupervised learning algorithms to figure that out."
   ]
  },
  {
   "cell_type": "markdown",
   "metadata": {},
   "source": [
    "##### Classifying the input into different groups or clusters is called clustering."
   ]
  },
  {
   "cell_type": "markdown",
   "metadata": {},
   "source": [
    "##### Another type of unsupervised learning is anomaly detection which detects any outliers or unusual points in the data. This is widely used in fraud detection."
   ]
  },
  {
   "cell_type": "markdown",
   "metadata": {},
   "source": []
  }
 ],
 "metadata": {
  "kernelspec": {
   "display_name": "Python 3",
   "language": "python",
   "name": "python3"
  },
  "language_info": {
   "name": "python",
   "version": "3.12.4"
  }
 },
 "nbformat": 4,
 "nbformat_minor": 2
}
