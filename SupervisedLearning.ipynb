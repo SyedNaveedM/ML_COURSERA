{
 "cells": [
  {
   "cell_type": "markdown",
   "metadata": {},
   "source": [
    "##### Machine learning is the science of making computers learn without the need to be explicitly programmed."
   ]
  },
  {
   "cell_type": "markdown",
   "metadata": {},
   "source": [
    "##### Supervised learning algorithms are the algorithms which learn from input to output mappings. Basically, they learn from examples where we give them the input and also we give the correct output from which they gradually learn and are able to make accurate predictions on any new inputs they encounter."
   ]
  },
  {
   "cell_type": "markdown",
   "metadata": {},
   "source": [
    "##### Ex:- Speech recognition, translation, online advertising, spam filter, etc."
   ]
  },
  {
   "cell_type": "markdown",
   "metadata": {},
   "source": [
    "##### There are two types of supervised learning algorithms: classification and regression.\n",
    "##### Classification: In classification what we do is classify the input into one or more categories. Classification is basically discrete as there a finite number of outputs possible.\n",
    "##### Regression: In regression we produce a number or any other value which is continuous. It has infinite number of possible outputs."
   ]
  },
  {
   "cell_type": "markdown",
   "metadata": {},
   "source": [
    "##### What the classification algorithms do is decide a boundary line for each category."
   ]
  },
  {
   "cell_type": "markdown",
   "metadata": {},
   "source": [
    "##### In unsupervised learning we are not given any output labels for the input. Instead the unsupervised learning algorithm tries to find something interesting like a pattern in the data. This is different from supervised learning because we ourselves don't know what the right answer is for the patterns so we use unsupervised learning algorithms to figure that out."
   ]
  },
  {
   "cell_type": "markdown",
   "metadata": {},
   "source": [
    "##### Classifying the input into different groups or clusters is called clustering."
   ]
  },
  {
   "cell_type": "markdown",
   "metadata": {},
   "source": [
    "##### Another type of unsupervised learning is anomaly detection which detects any outliers or unusual points in the data. This is widely used in fraud detection."
   ]
  },
  {
   "cell_type": "markdown",
   "metadata": {},
   "source": [
    "##### The most basic regression algorithm is linear regression."
   ]
  },
  {
   "cell_type": "markdown",
   "metadata": {},
   "source": [
    "##### This algorithm finds the best fit line for the data."
   ]
  },
  {
   "cell_type": "markdown",
   "metadata": {},
   "source": [
    "##### The dataset which is used to train the model is called the training set. All the column headers in the dataset are called features of a model and the final output that we desire is called the output or target variable."
   ]
  },
  {
   "cell_type": "markdown",
   "metadata": {},
   "source": [
    "##### The function for univariate linear regression is f(x)=wx+b where x is the input."
   ]
  },
  {
   "cell_type": "markdown",
   "metadata": {},
   "source": [
    "##### In the function f(x)=wx+b, w and b are called parameters/coefficients/weights of the model. These are variables whose value we change while training the model."
   ]
  },
  {
   "cell_type": "markdown",
   "metadata": {},
   "source": [
    "##### To determine how well our model fits the data or how well the model works we use the cost function. The cost function for linear regression is,\n"
   ]
  },
  {
   "cell_type": "markdown",
   "metadata": {},
   "source": [
    "The cost function \\( J(w, b) \\) for linear regression is given by:\n",
    "\n",
    "$$\n",
    "J(w, b) = \\frac{1}{2m} \\sum_{i=1}^{m} \\left( f(x_i) - y_i \\right)^2\n",
    "$$\n",
    "\n",
    "where:\n",
    "- \\( m \\) is the number of training examples.\n",
    "- \\( f(x_i) \\) is the predicted value for the \\( i \\)-th example.\n",
    "- \\( y_i \\) is the actual value for the \\( i \\)-th example.\n",
    "- \\( w \\) and \\( b \\) are the parameters of the model.\n"
   ]
  },
  {
   "cell_type": "markdown",
   "metadata": {},
   "source": [
    "##### The cost function is the average of the squared differences between the predicted value and the actual value. The cost function is also called the mean squared error.\n",
    "\n",
    "##### The goal of the linear regression model is to minimize the cost function. This is done by changing the values of the parameters w and b."
   ]
  },
  {
   "cell_type": "markdown",
   "metadata": {},
   "source": [
    "##### Contour plot is a graphical representation of the cost function. It is a 3D plot where the x-axis and y-axis represent the values of the parameters w and b and the z-axis represents the cost function.\n",
    "\n",
    "##### The contour plot is used to visualize the cost function and to find the minimum value of the cost function.\n",
    "\n",
    "##### The gradient descent algorithm is used to minimize the cost function. The gradient descent algorithm is an optimization algorithm that is used to find the minimum value of the cost function."
   ]
  },
  {
   "cell_type": "markdown",
   "metadata": {},
   "source": [
    "##### The most common optimization algorithm used to minimize the cost function is the gradient descent algorithm.\n",
    "\n",
    "##### The gradient descent algorithm is an iterative optimization algorithm that is used to minimize the cost function.\n"
   ]
  },
  {
   "cell_type": "markdown",
   "metadata": {},
   "source": [
    "#### The gradient descent does not return the global minima instead it returns the local minima. The global minima is the point where the cost function is minimum. The local minima is the point where the cost function is minimum in a small region of the cost function."
   ]
  },
  {
   "cell_type": "markdown",
   "metadata": {},
   "source": [
    "# Gradient Descent for Linear Regression (Without Cost Function)\n",
    "\n",
    "The goal of linear regression is to find the weights (or coefficients) that best fit the training data. Gradient descent is used to iteratively update the weights in order to minimize the error between predicted and actual values.\n",
    "\n",
    "## Gradient Descent Algorithm\n",
    "\n",
    "The weights are updated iteratively using the following rule:\n",
    "\n",
    "$$\n",
    "\\mathbf{w} := \\mathbf{w} - \\alpha \\nabla J(\\mathbf{w})\n",
    "$$\n",
    "\n",
    "Where:\n",
    "- **w** is the vector of weights (parameters).\n",
    "- **α** is the learning rate, which controls the step size of each update.\n",
    "- **∇J(w)** is the gradient of the error with respect to the weights.\n",
    "\n",
    "### Gradient Calculation\n",
    "\n",
    "The gradient of the error with respect to the weights **w** is:\n",
    "\n",
    "$$\n",
    "\\nabla J(\\mathbf{w}) = \\frac{1}{m} \\sum_{i=1}^{m} \\left( \\hat{y}_i - y_i \\right) \\mathbf{x}_i\n",
    "$$\n",
    "\n",
    "Where:\n",
    "- **m** is the number of training examples.\n",
    "- **ŷᵢ** is the predicted value for the *i*-th example: \\( \\hat{y}_i = \\mathbf{x}_i^T \\mathbf{w} \\).\n",
    "- **yᵢ** is the actual value for the *i*-th example.\n",
    "- **xᵢ** is the feature vector for the *i*-th example.\n",
    "\n",
    "### Weight Update Rule\n",
    "\n",
    "Using the gradient, the weight update rule for each weight **wⱼ** is:\n",
    "\n",
    "$$\n",
    "w_j := w_j - \\alpha \\frac{1}{m} \\sum_{i=1}^{m} \\left( \\hat{y}_i - y_i \\right) x_{ij}\n",
    "$$\n",
    "\n",
    "Where:\n",
    "- **wⱼ** is the *j*-th weight.\n",
    "- **xᵢⱼ** is the *j*-th feature of the *i*-th training example.\n",
    "\n",
    "## Iterative Process\n",
    "\n",
    "Repeat the following steps until convergence or for a set number of iterations:\n",
    "1. Calculate the predictions **ŷᵢ** for each training example:\n",
    "   $$\n",
    "   \\hat{y}_i = \\mathbf{x}_i^T \\mathbf{w}\n",
    "   $$\n",
    "2. Update the weights using the gradient update rule:\n",
    "   $$\n",
    "   \\mathbf{w} := \\mathbf{w} - \\alpha \\nabla J(\\mathbf{w})\n",
    "   $$\n",
    "\n",
    "This algorithm ensures that the weights are adjusted to minimize the error in the predictions.\n"
   ]
  },
  {
   "cell_type": "markdown",
   "metadata": {},
   "source": [
    "##### In gradient descent we have to update the weights simultaneously. We can't update the weights one by one. We have to update all the weights at the same time. This is because if we update the weights one by one then the weights will not converge to the minimum value of the cost function. Basically when we update w then we have to use the new value of w to update b and vice versa."
   ]
  },
  {
   "cell_type": "markdown",
   "metadata": {},
   "source": [
    "##### The efficiency of our gradient descent algorithm depends on the learning rate alpha too. If the learning rate is too small then the algorithm will take a long time to converge to the minimum value of the cost function. If the learning rate is too large then the algorithm may overshoot the minimum value of the cost function and may not converge to the minimum value of the cost function."
   ]
  },
  {
   "cell_type": "markdown",
   "metadata": {},
   "source": [
    "##### The above process is called batch gradient descent. In batch gradient descent we use all the training examples to update the weights. This is called batch gradient descent because we use all the training examples to update the weights."
   ]
  },
  {
   "cell_type": "markdown",
   "metadata": {},
   "source": [
    "### Multivariate Linear Regression\n",
    "##### In multivariate linear regression we have more than one input feature. The function for multivariate linear regression is f(x)=w1x1+w2x2+...+wnxn+b where x1, x2, ..., xn are the input features.\n",
    "##### The cost function for multivariate linear regression is the same as the cost function for univariate linear regression. The only difference is that we have more than one input feature.\n",
    "##### The gradient of the cost function for multivariate linear regression is the same as the gradient of the cost function for univariate linear regression. The only difference is that we have more than one input feature.\n",
    "##### The weight update rule for multivariate linear regression is the same as the weight update rule for univariate linear regression. The only difference is that we have more than one input feature.\n"
   ]
  },
  {
   "cell_type": "markdown",
   "metadata": {},
   "source": [
    "##### Function for multivariate linear regression is f(x)=w1x1+w2x2+...+wnxn+b where x1, x2, ..., xn are the input features.\n",
    "##### f(x)=w.x+b where x is the input feature vector and w is the weight vector."
   ]
  },
  {
   "cell_type": "markdown",
   "metadata": {},
   "source": [
    "##### Implementing the function without vectorization\n",
    "```python\n",
    "f = 0\n",
    "for i in range(n):\n",
    "    f += w[i] * x[i]\n",
    "f += b\n",
    "\n"
   ]
  },
  {
   "cell_type": "markdown",
   "metadata": {},
   "source": [
    "##### Implementing the function with vectorization\n",
    "```python\n",
    "f = np.dot(w, x) + b\n",
    "```"
   ]
  },
  {
   "cell_type": "markdown",
   "metadata": {},
   "source": [
    "### Feature scaling\n",
    "##### Feature scaling is a technique used to standardize the range of independent variables or features of data. In data processing, it is also known as data normalization and is generally performed during the data preprocessing step.\n",
    "##### Feature scaling is important because it helps to normalize the data within a particular range. This is important because if the data is not normalized then the weights will not converge to the minimum value of the cost function.\n",
    "##### There are two common ways to scale the features: min-max scaling and standardization.\n",
    "##### Min-max scaling scales the data to a fixed range, usually 0 to 1.\n",
    "##### Standardization scales the data so that it has a mean of 0 and a standard deviation of 1.\n",
    "##### Min-max scaling is useful when the data has a normal distribution. Standardization is useful when the data has a non-normal distribution."
   ]
  },
  {
   "cell_type": "markdown",
   "metadata": {},
   "source": [
    "##### Z-score normalization is a method of normalizing data. It is also known as standardization. Z-score normalization scales the data so that it has a mean of 0 and a standard deviation of 1. Z-score normalization is useful when the data has a non-normal distribution."
   ]
  },
  {
   "cell_type": "markdown",
   "metadata": {},
   "source": [
    "### Checking if our gradient descent algorithm is working correctly\n",
    "##### To check if our gradient descent algorithm is working correctly we can plot the cost function vs the number of iterations. If the cost function is decreasing with each iteration then our gradient descent algorithm is working correctly. If the cost function is increasing with each iteration then our gradient descent algorithm is not working correctly.\n",
    "##### We can also plot the cost function vs the weights. If the cost function is decreasing with each iteration then our gradient descent algorithm is working correctly. If the cost function is increasing with each iteration then our gradient descent algorithm is not working correctly. This plotting is called the convergence plot/learing curve."
   ]
  },
  {
   "cell_type": "markdown",
   "metadata": {},
   "source": [
    "##### Automatic convergence test: Let the cost function be J(w, b). If J(w, b) decreases by less than a certain threshold value in one iteration then we can say that the algorithm has converged. This is called the automatic convergence test."
   ]
  },
  {
   "cell_type": "markdown",
   "metadata": {},
   "source": [
    "### Choosing the learning rate(alpha) correctly\n",
    "##### The learning rate is a hyperparameter that controls the step size of each update. If the learning rate is too small then the algorithm will take a long time to converge to the minimum value of the cost function. If the learning rate is too large then the algorithm may overshoot the minimum value of the cost function and may not converge to the minimum value of the cost function."
   ]
  },
  {
   "cell_type": "markdown",
   "metadata": {},
   "source": [
    "### Feature engineering\n",
    "##### Feature engineering is the process of using domain knowledge to extract features from raw data\n",
    "##### We use feature engineering to create new features from the existing features. This is done to improve the performance of the model.\n",
    "##### Feature engineering is important because it helps to improve the performance of the model. It helps to create new features from the existing features. This is done to improve the performance of the model.\n"
   ]
  },
  {
   "cell_type": "markdown",
   "metadata": {},
   "source": [
    "### Polynomial regression\n",
    "##### Polynomial regression is a type of regression analysis in which the relationship between the independent variable x and the dependent variable y is modeled as an nth degree polynomial.\n",
    "##### Polynomial regression is used when the relationship between the independent variable x and the dependent variable y is not linear.\n"
   ]
  },
  {
   "cell_type": "markdown",
   "metadata": {},
   "source": [
    "# Classification"
   ]
  },
  {
   "cell_type": "markdown",
   "metadata": {},
   "source": [
    "##### Classification is a type of supervised learning algorithm. In classification what we do is classify the input into one or more categories. Classification is basically discrete as there a finite number of outputs possible."
   ]
  },
  {
   "cell_type": "markdown",
   "metadata": {},
   "source": [
    "##### Positive class- The class which we want to predict is called the positive class. The class which we don't want to predict is called the negative class."
   ]
  },
  {
   "cell_type": "markdown",
   "metadata": {},
   "source": [
    "##### Linear regression is very bad for classification because it gives continuous output. We can't use linear regression for classification because it gives continuous output. Even if we use it to decide the boundary line for the classes it will not work well because even a single outlier can change the boundary line."
   ]
  },
  {
   "cell_type": "markdown",
   "metadata": {},
   "source": [
    "#### Logistic regression"
   ]
  },
  {
   "cell_type": "markdown",
   "metadata": {},
   "source": [
    "##### Logistic regression is a type of regression analysis used for predicting the outcome of a categorical dependent variable based on one or more predictor variables. It is used to model the probability of a certain class or event existing such as pass/fail, win/lose, alive/dead or healthy/sick."
   ]
  },
  {
   "cell_type": "markdown",
   "metadata": {},
   "source": [
    "##### Sigmoid function/logistic function is used in logistic regression. The sigmoid function is a mathematical function that maps any real value to a value between 0 and 1. The sigmoid function is used to map the output of the linear regression model to a value between 0 and 1. This is done to convert the continuous output of the linear regression model to a probability."
   ]
  },
  {
   "cell_type": "markdown",
   "metadata": {},
   "source": [
    "##### Sigmoid function is given by:\n",
    "$$ f(x) = \\frac{1}{1 + e^{-x}} $$\n",
    "##### The sigmoid function is used to map the output of the linear regression model to a value between 0 and 1. This is done to convert the continuous output of the linear regression model to a probability."
   ]
  },
  {
   "cell_type": "markdown",
   "metadata": {},
   "source": [
    "##### The plot of the sigmoid function looks like this:\n",
    "\n"
   ]
  },
  {
   "cell_type": "code",
   "execution_count": 7,
   "metadata": {},
   "outputs": [
    {
     "data": {
      "image/png": "[encoded data removed]",
      "text/plain": [
       "<Figure size 640x480 with 1 Axes>"
      ]
     },
     "metadata": {},
     "output_type": "display_data"
    }
   ],
   "source": [
    "import numpy as np\n",
    "import matplotlib.pyplot as plt\n",
    "\n",
    "def sigmoid(x):\n",
    "    return 1 / (1 + np.exp(-x))\n",
    "\n",
    "x = np.linspace(-10, 10, 100)\n",
    "y = sigmoid(x)\n",
    "\n",
    "plt.plot(x, y)\n",
    "plt.xlabel('x')\n",
    "plt.ylabel('f(x)')\n",
    "plt.title('Sigmoid Function')\n",
    "plt.grid()\n",
    "plt.show()"
   ]
  },
  {
   "cell_type": "markdown",
   "metadata": {},
   "source": [
    "##### Let the output of the linear regression model be z. The output of the linear regression model is given by:\n",
    "$$ z = w.x + b $$\n",
    "##### The output of the linear regression model is then passed through the sigmoid function to get the probability of the positive class. The probability of the positive class is given by:\n",
    "$$ p = \\frac{1}{1 + e^{-z}} $$\n",
    "##### The probability of the negative class is given by:\n",
    "$$ 1 - p = \\frac{e^{-z}}{1 + e^{-z}} $$\n",
    "##### The probability of the positive class is then used to make the prediction. If the probability of the positive class is greater than 0.5 then the prediction is positive class. If the probability of the positive class is less than 0.5 then the prediction is negative class.\n",
    "\n",
    "##### The cost function for logistic regression is given by:\n",
    "$$ J(w, b) = -\\frac{1}{m} \\sum_{i=1}^{m} \\left( y_i \\log(p) + (1 - y_i) \\log(1 - p) \\right) $$\n",
    "##### The cost function for logistic regression is the negative log likelihood of the data. The cost function is used to measure how well the logistic regression model is performing.\n",
    "\n",
    "##### The gradient of the cost function for logistic regression is given by:\n",
    "$$ \\nabla J(w, b) = \\frac{1}{m} \\sum_{i=1}^{m} \\left( p - y_i \\right) x_i $$\n",
    "##### The gradient of the cost function for logistic regression is used to update the weights of the logistic regression model. The weights are updated using the gradient descent algorithm.\n",
    "\n",
    "##### The weight update rule for logistic regression is given by:\n",
    "$$ w := w - \\alpha \\nabla J(w, b) $$\n",
    "$$ b := b - \\alpha \\nabla J(w, b) $$\n",
    "##### The weights are updated using the gradient descent algorithm. The weights are updated using the gradient of the cost function.\n",
    "\n"
   ]
  },
  {
   "cell_type": "markdown",
   "metadata": {},
   "source": [
    "##### input_array = np.array([1,2,3])\n",
    "##### exp_array = np.exp(input_array)\n",
    "##### np.exp calculates the exponential of all the elements in the input array. The exponential of a number is given by e raised to the power of the number."
   ]
  },
  {
   "cell_type": "markdown",
   "metadata": {},
   "source": [
    "##### Implementation of the sigmoid function"
   ]
  },
  {
   "cell_type": "code",
   "execution_count": 8,
   "metadata": {},
   "outputs": [],
   "source": [
    "def sigmoid(z):\n",
    "    \"\"\"\n",
    "    Compute the sigmoid of z\n",
    "\n",
    "    Args:\n",
    "        z (ndarray): A scalar, numpy array of any size.\n",
    "\n",
    "    Returns:\n",
    "        g (ndarray): sigmoid(z), with the same shape as z\n",
    "         \n",
    "    \"\"\"\n",
    "\n",
    "    g = 1/(1+np.exp(-z))\n",
    "   \n",
    "    return g"
   ]
  },
  {
   "cell_type": "markdown",
   "metadata": {},
   "source": [
    "#####"
   ]
  },
  {
   "cell_type": "markdown",
   "metadata": {},
   "source": [
    "##### When z=0, we get a line which is called the boundary line or decision boundary. The decision boundary is the line which separates the positive class from the negative class. The decision boundary is the line where the probability of the positive class is 0.5."
   ]
  },
  {
   "cell_type": "markdown",
   "metadata": {},
   "source": [
    "##### The decision boundary need not be a straight line. It could be non-linear too. The decision boundary could be a curve or a surface."
   ]
  },
  {
   "cell_type": "markdown",
   "metadata": {},
   "source": [
    "##### The threshold for classification need not be always 0.5. In fact, we prefer a lower value as we do not want any false positives. So, we keep it low and then increase it if we want."
   ]
  },
  {
   "cell_type": "markdown",
   "metadata": {},
   "source": [
    "### Cost function for logistic regression"
   ]
  },
  {
   "cell_type": "markdown",
   "metadata": {},
   "source": [
    "##### The mean squared error cost function is not used for logistic regression because the output of the logistic regression model is a probability. It is because for linear regression the mean squared error made the cost function convex so it is easier to find the minimum value of the cost function. But for logistic regression the mean squared error cost function is not convex so it is difficult to find the minimum value of the cost function. Thus, we use a differnt cost function."
   ]
  },
  {
   "cell_type": "markdown",
   "metadata": {},
   "source": [
    "##### The cost function for logistic regression is given by:\n",
    "$$ J(w, b) = -\\frac{1}{m} \\sum_{i=1}^{m} \\left( y_i \\log(p) + (1 - y_i) \\log(1 - p) \\right) $$\n",
    "\n",
    "##### The cost function for logistic regression is the negative log likelihood of the data. The cost function is used to measure how well the logistic regression model is performing.\n",
    "\n",
    "##### Basically now we define the loss function as a split one. If the actual value is 1 then the loss function is -log(p) and if the actual value is 0 then the loss function is -log(1-p). This is because if the actual value is 1 then we want the predicted value to be 1 and if the actual value is 0 then we want the predicted value to be 0. So, we use the loss function -log(p) if the actual value is 1 and -log(1-p) if the actual value is 0.\n",
    "\n",
    "##### The cost function is the average of the loss function. The cost function is the average of the loss function for all the training examples.\n",
    "\n",
    "##### p=1/(1+e^(-z)) where z=w.x+b. If the actual value is 1 then the loss function is -log(p) and if the actual value is 0 then the loss function is -log(1-p)."
   ]
  },
  {
   "cell_type": "markdown",
   "metadata": {},
   "source": [
    "##### The plot of the cost function of logistic regression graphically:\n",
    "\n",
    "\n"
   ]
  },
  {
   "cell_type": "code",
   "execution_count": 1,
   "metadata": {},
   "outputs": [
    {
     "data": {
      "image/png": "[encoded data removed]",
      "text/plain": [
       "<Figure size 640x480 with 1 Axes>"
      ]
     },
     "metadata": {},
     "output_type": "display_data"
    }
   ],
   "source": [
    "import numpy as np\n",
    "import matplotlib.pyplot as plt\n",
    "\n",
    "# Logistic regression cost function\n",
    "def logistic_cost(y, y_pred):\n",
    "    return -y * np.log(y_pred) - (1 - y) * np.log(1 - y_pred)\n",
    "\n",
    "# Generate a range of predictions\n",
    "y_pred = np.linspace(0.01, 0.99, 100)\n",
    "\n",
    "# Compute the cost for y=1 and y=0\n",
    "cost_y1 = logistic_cost(1, y_pred)\n",
    "cost_y0 = logistic_cost(0, y_pred)\n",
    "\n",
    "# Plot the cost function\n",
    "plt.plot(y_pred, cost_y1, label='y=1')\n",
    "plt.plot(y_pred, cost_y0, label='y=0')\n",
    "plt.xlabel('Predicted Probability')\n",
    "plt.ylabel('Cost')\n",
    "plt.title('Logistic Regression Cost Function')\n",
    "plt.legend()\n",
    "plt.show()"
   ]
  },
  {
   "cell_type": "markdown",
   "metadata": {},
   "source": [
    "#### Implementation of cost function of logistic regression"
   ]
  },
  {
   "cell_type": "code",
   "execution_count": 2,
   "metadata": {},
   "outputs": [],
   "source": [
    "def compute_cost_logistic(X, y, w, b):\n",
    "    \"\"\"\n",
    "    Computes cost\n",
    "\n",
    "    Args:\n",
    "      X (ndarray (m,n)): Data, m examples with n features\n",
    "      y (ndarray (m,)) : target values\n",
    "      w (ndarray (n,)) : model parameters  \n",
    "      b (scalar)       : model parameter\n",
    "      \n",
    "    Returns:\n",
    "      cost (scalar): cost\n",
    "    \"\"\"\n",
    "\n",
    "    m = X.shape[0]\n",
    "    cost = 0.0\n",
    "    for i in range(m):\n",
    "        z_i = np.dot(X[i],w) + b\n",
    "        f_wb_i = sigmoid(z_i)\n",
    "        cost +=  -y[i]*np.log(f_wb_i) - (1-y[i])*np.log(1-f_wb_i)\n",
    "             \n",
    "    cost = cost / m\n",
    "    return cost\n"
   ]
  },
  {
   "cell_type": "markdown",
   "metadata": {},
   "source": [
    "#### Gradient descent for logistic regression"
   ]
  },
  {
   "cell_type": "code",
   "execution_count": 5,
   "metadata": {},
   "outputs": [],
   "source": [
    "def compute_gradient_logistic(X, y, w, b): \n",
    "    \"\"\"\n",
    "    Computes the gradient for logistic regression \n",
    " \n",
    "    Args:\n",
    "      X (ndarray (m,n): Data, m examples with n features\n",
    "      y (ndarray (m,)): target values\n",
    "      w (ndarray (n,)): model parameters  \n",
    "      b (scalar)      : model parameter\n",
    "    Returns\n",
    "      dj_dw (ndarray (n,)): The gradient of the cost w.r.t. the parameters w. \n",
    "      dj_db (scalar)      : The gradient of the cost w.r.t. the parameter b. \n",
    "    \"\"\"\n",
    "    m,n = X.shape\n",
    "    dj_dw = np.zeros((n,))                           #(n,)\n",
    "    dj_db = 0.\n",
    "\n",
    "    for i in range(m):\n",
    "        f_wb_i = sigmoid(np.dot(X[i],w) + b)          #(n,)(n,)=scalar\n",
    "        err_i  = f_wb_i  - y[i]                       #scalar\n",
    "        for j in range(n):\n",
    "            dj_dw[j] = dj_dw[j] + err_i * X[i,j]      #scalar\n",
    "        dj_db = dj_db + err_i\n",
    "    dj_dw = dj_dw/m                                   #(n,)\n",
    "    dj_db = dj_db/m                                   #scalar\n",
    "        \n",
    "    return dj_db, dj_dw  "
   ]
  },
  {
   "cell_type": "markdown",
   "metadata": {},
   "source": [
    "#### Implementation of logistic regression in scikit-learn"
   ]
  },
  {
   "cell_type": "code",
   "execution_count": 6,
   "metadata": {},
   "outputs": [],
   "source": [
    "import numpy as np\n",
    "\n",
    "X = np.array([[0.5, 1.5], [1,1], [1.5, 0.5], [3, 0.5], [2, 2], [1, 2.5]])\n",
    "y = np.array([0, 0, 0, 1, 1, 1])"
   ]
  },
  {
   "cell_type": "code",
   "execution_count": 7,
   "metadata": {},
   "outputs": [
    {
     "data": {
      "text/html": [
       "<style>#sk-container-id-1 {\n",
       "  /* Definition of color scheme common for light and dark mode */\n",
       "  --sklearn-color-text: black;\n",
       "  --sklearn-color-line: gray;\n",
       "  /* Definition of color scheme for unfitted estimators */\n",
       "  --sklearn-color-unfitted-level-0: #fff5e6;\n",
       "  --sklearn-color-unfitted-level-1: #f6e4d2;\n",
       "  --sklearn-color-unfitted-level-2: #ffe0b3;\n",
       "  --sklearn-color-unfitted-level-3: chocolate;\n",
       "  /* Definition of color scheme for fitted estimators */\n",
       "  --sklearn-color-fitted-level-0: #f0f8ff;\n",
       "  --sklearn-color-fitted-level-1: #d4ebff;\n",
       "  --sklearn-color-fitted-level-2: #b3dbfd;\n",
       "  --sklearn-color-fitted-level-3: cornflowerblue;\n",
       "\n",
       "  /* Specific color for light theme */\n",
       "  --sklearn-color-text-on-default-background: var(--sg-text-color, var(--theme-code-foreground, var(--jp-content-font-color1, black)));\n",
       "  --sklearn-color-background: var(--sg-background-color, var(--theme-background, var(--jp-layout-color0, white)));\n",
       "  --sklearn-color-border-box: var(--sg-text-color, var(--theme-code-foreground, var(--jp-content-font-color1, black)));\n",
       "  --sklearn-color-icon: #696969;\n",
       "\n",
       "  @media (prefers-color-scheme: dark) {\n",
       "    /* Redefinition of color scheme for dark theme */\n",
       "    --sklearn-color-text-on-default-background: var(--sg-text-color, var(--theme-code-foreground, var(--jp-content-font-color1, white)));\n",
       "    --sklearn-color-background: var(--sg-background-color, var(--theme-background, var(--jp-layout-color0, #111)));\n",
       "    --sklearn-color-border-box: var(--sg-text-color, var(--theme-code-foreground, var(--jp-content-font-color1, white)));\n",
       "    --sklearn-color-icon: #878787;\n",
       "  }\n",
       "}\n",
       "\n",
       "#sk-container-id-1 {\n",
       "  color: var(--sklearn-color-text);\n",
       "}\n",
       "\n",
       "#sk-container-id-1 pre {\n",
       "  padding: 0;\n",
       "}\n",
       "\n",
       "#sk-container-id-1 input.sk-hidden--visually {\n",
       "  border: 0;\n",
       "  clip: rect(1px 1px 1px 1px);\n",
       "  clip: rect(1px, 1px, 1px, 1px);\n",
       "  height: 1px;\n",
       "  margin: -1px;\n",
       "  overflow: hidden;\n",
       "  padding: 0;\n",
       "  position: absolute;\n",
       "  width: 1px;\n",
       "}\n",
       "\n",
       "#sk-container-id-1 div.sk-dashed-wrapped {\n",
       "  border: 1px dashed var(--sklearn-color-line);\n",
       "  margin: 0 0.4em 0.5em 0.4em;\n",
       "  box-sizing: border-box;\n",
       "  padding-bottom: 0.4em;\n",
       "  background-color: var(--sklearn-color-background);\n",
       "}\n",
       "\n",
       "#sk-container-id-1 div.sk-container {\n",
       "  /* jupyter's `normalize.less` sets `[hidden] { display: none; }`\n",
       "     but bootstrap.min.css set `[hidden] { display: none !important; }`\n",
       "     so we also need the `!important` here to be able to override the\n",
       "     default hidden behavior on the sphinx rendered scikit-learn.org.\n",
       "     See: https://github.com/scikit-learn/scikit-learn/issues/21755 */\n",
       "  display: inline-block !important;\n",
       "  position: relative;\n",
       "}\n",
       "\n",
       "#sk-container-id-1 div.sk-text-repr-fallback {\n",
       "  display: none;\n",
       "}\n",
       "\n",
       "div.sk-parallel-item,\n",
       "div.sk-serial,\n",
       "div.sk-item {\n",
       "  /* draw centered vertical line to link estimators */\n",
       "  background-image: linear-gradient(var(--sklearn-color-text-on-default-background), var(--sklearn-color-text-on-default-background));\n",
       "  background-size: 2px 100%;\n",
       "  background-repeat: no-repeat;\n",
       "  background-position: center center;\n",
       "}\n",
       "\n",
       "/* Parallel-specific style estimator block */\n",
       "\n",
       "#sk-container-id-1 div.sk-parallel-item::after {\n",
       "  content: \"\";\n",
       "  width: 100%;\n",
       "  border-bottom: 2px solid var(--sklearn-color-text-on-default-background);\n",
       "  flex-grow: 1;\n",
       "}\n",
       "\n",
       "#sk-container-id-1 div.sk-parallel {\n",
       "  display: flex;\n",
       "  align-items: stretch;\n",
       "  justify-content: center;\n",
       "  background-color: var(--sklearn-color-background);\n",
       "  position: relative;\n",
       "}\n",
       "\n",
       "#sk-container-id-1 div.sk-parallel-item {\n",
       "  display: flex;\n",
       "  flex-direction: column;\n",
       "}\n",
       "\n",
       "#sk-container-id-1 div.sk-parallel-item:first-child::after {\n",
       "  align-self: flex-end;\n",
       "  width: 50%;\n",
       "}\n",
       "\n",
       "#sk-container-id-1 div.sk-parallel-item:last-child::after {\n",
       "  align-self: flex-start;\n",
       "  width: 50%;\n",
       "}\n",
       "\n",
       "#sk-container-id-1 div.sk-parallel-item:only-child::after {\n",
       "  width: 0;\n",
       "}\n",
       "\n",
       "/* Serial-specific style estimator block */\n",
       "\n",
       "#sk-container-id-1 div.sk-serial {\n",
       "  display: flex;\n",
       "  flex-direction: column;\n",
       "  align-items: center;\n",
       "  background-color: var(--sklearn-color-background);\n",
       "  padding-right: 1em;\n",
       "  padding-left: 1em;\n",
       "}\n",
       "\n",
       "\n",
       "/* Toggleable style: style used for estimator/Pipeline/ColumnTransformer box that is\n",
       "clickable and can be expanded/collapsed.\n",
       "- Pipeline and ColumnTransformer use this feature and define the default style\n",
       "- Estimators will overwrite some part of the style using the `sk-estimator` class\n",
       "*/\n",
       "\n",
       "/* Pipeline and ColumnTransformer style (default) */\n",
       "\n",
       "#sk-container-id-1 div.sk-toggleable {\n",
       "  /* Default theme specific background. It is overwritten whether we have a\n",
       "  specific estimator or a Pipeline/ColumnTransformer */\n",
       "  background-color: var(--sklearn-color-background);\n",
       "}\n",
       "\n",
       "/* Toggleable label */\n",
       "#sk-container-id-1 label.sk-toggleable__label {\n",
       "  cursor: pointer;\n",
       "  display: block;\n",
       "  width: 100%;\n",
       "  margin-bottom: 0;\n",
       "  padding: 0.5em;\n",
       "  box-sizing: border-box;\n",
       "  text-align: center;\n",
       "}\n",
       "\n",
       "#sk-container-id-1 label.sk-toggleable__label-arrow:before {\n",
       "  /* Arrow on the left of the label */\n",
       "  content: \"▸\";\n",
       "  float: left;\n",
       "  margin-right: 0.25em;\n",
       "  color: var(--sklearn-color-icon);\n",
       "}\n",
       "\n",
       "#sk-container-id-1 label.sk-toggleable__label-arrow:hover:before {\n",
       "  color: var(--sklearn-color-text);\n",
       "}\n",
       "\n",
       "/* Toggleable content - dropdown */\n",
       "\n",
       "#sk-container-id-1 div.sk-toggleable__content {\n",
       "  max-height: 0;\n",
       "  max-width: 0;\n",
       "  overflow: hidden;\n",
       "  text-align: left;\n",
       "  /* unfitted */\n",
       "  background-color: var(--sklearn-color-unfitted-level-0);\n",
       "}\n",
       "\n",
       "#sk-container-id-1 div.sk-toggleable__content.fitted {\n",
       "  /* fitted */\n",
       "  background-color: var(--sklearn-color-fitted-level-0);\n",
       "}\n",
       "\n",
       "#sk-container-id-1 div.sk-toggleable__content pre {\n",
       "  margin: 0.2em;\n",
       "  border-radius: 0.25em;\n",
       "  color: var(--sklearn-color-text);\n",
       "  /* unfitted */\n",
       "  background-color: var(--sklearn-color-unfitted-level-0);\n",
       "}\n",
       "\n",
       "#sk-container-id-1 div.sk-toggleable__content.fitted pre {\n",
       "  /* unfitted */\n",
       "  background-color: var(--sklearn-color-fitted-level-0);\n",
       "}\n",
       "\n",
       "#sk-container-id-1 input.sk-toggleable__control:checked~div.sk-toggleable__content {\n",
       "  /* Expand drop-down */\n",
       "  max-height: 200px;\n",
       "  max-width: 100%;\n",
       "  overflow: auto;\n",
       "}\n",
       "\n",
       "#sk-container-id-1 input.sk-toggleable__control:checked~label.sk-toggleable__label-arrow:before {\n",
       "  content: \"▾\";\n",
       "}\n",
       "\n",
       "/* Pipeline/ColumnTransformer-specific style */\n",
       "\n",
       "#sk-container-id-1 div.sk-label input.sk-toggleable__control:checked~label.sk-toggleable__label {\n",
       "  color: var(--sklearn-color-text);\n",
       "  background-color: var(--sklearn-color-unfitted-level-2);\n",
       "}\n",
       "\n",
       "#sk-container-id-1 div.sk-label.fitted input.sk-toggleable__control:checked~label.sk-toggleable__label {\n",
       "  background-color: var(--sklearn-color-fitted-level-2);\n",
       "}\n",
       "\n",
       "/* Estimator-specific style */\n",
       "\n",
       "/* Colorize estimator box */\n",
       "#sk-container-id-1 div.sk-estimator input.sk-toggleable__control:checked~label.sk-toggleable__label {\n",
       "  /* unfitted */\n",
       "  background-color: var(--sklearn-color-unfitted-level-2);\n",
       "}\n",
       "\n",
       "#sk-container-id-1 div.sk-estimator.fitted input.sk-toggleable__control:checked~label.sk-toggleable__label {\n",
       "  /* fitted */\n",
       "  background-color: var(--sklearn-color-fitted-level-2);\n",
       "}\n",
       "\n",
       "#sk-container-id-1 div.sk-label label.sk-toggleable__label,\n",
       "#sk-container-id-1 div.sk-label label {\n",
       "  /* The background is the default theme color */\n",
       "  color: var(--sklearn-color-text-on-default-background);\n",
       "}\n",
       "\n",
       "/* On hover, darken the color of the background */\n",
       "#sk-container-id-1 div.sk-label:hover label.sk-toggleable__label {\n",
       "  color: var(--sklearn-color-text);\n",
       "  background-color: var(--sklearn-color-unfitted-level-2);\n",
       "}\n",
       "\n",
       "/* Label box, darken color on hover, fitted */\n",
       "#sk-container-id-1 div.sk-label.fitted:hover label.sk-toggleable__label.fitted {\n",
       "  color: var(--sklearn-color-text);\n",
       "  background-color: var(--sklearn-color-fitted-level-2);\n",
       "}\n",
       "\n",
       "/* Estimator label */\n",
       "\n",
       "#sk-container-id-1 div.sk-label label {\n",
       "  font-family: monospace;\n",
       "  font-weight: bold;\n",
       "  display: inline-block;\n",
       "  line-height: 1.2em;\n",
       "}\n",
       "\n",
       "#sk-container-id-1 div.sk-label-container {\n",
       "  text-align: center;\n",
       "}\n",
       "\n",
       "/* Estimator-specific */\n",
       "#sk-container-id-1 div.sk-estimator {\n",
       "  font-family: monospace;\n",
       "  border: 1px dotted var(--sklearn-color-border-box);\n",
       "  border-radius: 0.25em;\n",
       "  box-sizing: border-box;\n",
       "  margin-bottom: 0.5em;\n",
       "  /* unfitted */\n",
       "  background-color: var(--sklearn-color-unfitted-level-0);\n",
       "}\n",
       "\n",
       "#sk-container-id-1 div.sk-estimator.fitted {\n",
       "  /* fitted */\n",
       "  background-color: var(--sklearn-color-fitted-level-0);\n",
       "}\n",
       "\n",
       "/* on hover */\n",
       "#sk-container-id-1 div.sk-estimator:hover {\n",
       "  /* unfitted */\n",
       "  background-color: var(--sklearn-color-unfitted-level-2);\n",
       "}\n",
       "\n",
       "#sk-container-id-1 div.sk-estimator.fitted:hover {\n",
       "  /* fitted */\n",
       "  background-color: var(--sklearn-color-fitted-level-2);\n",
       "}\n",
       "\n",
       "/* Specification for estimator info (e.g. \"i\" and \"?\") */\n",
       "\n",
       "/* Common style for \"i\" and \"?\" */\n",
       "\n",
       ".sk-estimator-doc-link,\n",
       "a:link.sk-estimator-doc-link,\n",
       "a:visited.sk-estimator-doc-link {\n",
       "  float: right;\n",
       "  font-size: smaller;\n",
       "  line-height: 1em;\n",
       "  font-family: monospace;\n",
       "  background-color: var(--sklearn-color-background);\n",
       "  border-radius: 1em;\n",
       "  height: 1em;\n",
       "  width: 1em;\n",
       "  text-decoration: none !important;\n",
       "  margin-left: 1ex;\n",
       "  /* unfitted */\n",
       "  border: var(--sklearn-color-unfitted-level-1) 1pt solid;\n",
       "  color: var(--sklearn-color-unfitted-level-1);\n",
       "}\n",
       "\n",
       ".sk-estimator-doc-link.fitted,\n",
       "a:link.sk-estimator-doc-link.fitted,\n",
       "a:visited.sk-estimator-doc-link.fitted {\n",
       "  /* fitted */\n",
       "  border: var(--sklearn-color-fitted-level-1) 1pt solid;\n",
       "  color: var(--sklearn-color-fitted-level-1);\n",
       "}\n",
       "\n",
       "/* On hover */\n",
       "div.sk-estimator:hover .sk-estimator-doc-link:hover,\n",
       ".sk-estimator-doc-link:hover,\n",
       "div.sk-label-container:hover .sk-estimator-doc-link:hover,\n",
       ".sk-estimator-doc-link:hover {\n",
       "  /* unfitted */\n",
       "  background-color: var(--sklearn-color-unfitted-level-3);\n",
       "  color: var(--sklearn-color-background);\n",
       "  text-decoration: none;\n",
       "}\n",
       "\n",
       "div.sk-estimator.fitted:hover .sk-estimator-doc-link.fitted:hover,\n",
       ".sk-estimator-doc-link.fitted:hover,\n",
       "div.sk-label-container:hover .sk-estimator-doc-link.fitted:hover,\n",
       ".sk-estimator-doc-link.fitted:hover {\n",
       "  /* fitted */\n",
       "  background-color: var(--sklearn-color-fitted-level-3);\n",
       "  color: var(--sklearn-color-background);\n",
       "  text-decoration: none;\n",
       "}\n",
       "\n",
       "/* Span, style for the box shown on hovering the info icon */\n",
       ".sk-estimator-doc-link span {\n",
       "  display: none;\n",
       "  z-index: 9999;\n",
       "  position: relative;\n",
       "  font-weight: normal;\n",
       "  right: .2ex;\n",
       "  padding: .5ex;\n",
       "  margin: .5ex;\n",
       "  width: min-content;\n",
       "  min-width: 20ex;\n",
       "  max-width: 50ex;\n",
       "  color: var(--sklearn-color-text);\n",
       "  box-shadow: 2pt 2pt 4pt #999;\n",
       "  /* unfitted */\n",
       "  background: var(--sklearn-color-unfitted-level-0);\n",
       "  border: .5pt solid var(--sklearn-color-unfitted-level-3);\n",
       "}\n",
       "\n",
       ".sk-estimator-doc-link.fitted span {\n",
       "  /* fitted */\n",
       "  background: var(--sklearn-color-fitted-level-0);\n",
       "  border: var(--sklearn-color-fitted-level-3);\n",
       "}\n",
       "\n",
       ".sk-estimator-doc-link:hover span {\n",
       "  display: block;\n",
       "}\n",
       "\n",
       "/* \"?\"-specific style due to the `<a>` HTML tag */\n",
       "\n",
       "#sk-container-id-1 a.estimator_doc_link {\n",
       "  float: right;\n",
       "  font-size: 1rem;\n",
       "  line-height: 1em;\n",
       "  font-family: monospace;\n",
       "  background-color: var(--sklearn-color-background);\n",
       "  border-radius: 1rem;\n",
       "  height: 1rem;\n",
       "  width: 1rem;\n",
       "  text-decoration: none;\n",
       "  /* unfitted */\n",
       "  color: var(--sklearn-color-unfitted-level-1);\n",
       "  border: var(--sklearn-color-unfitted-level-1) 1pt solid;\n",
       "}\n",
       "\n",
       "#sk-container-id-1 a.estimator_doc_link.fitted {\n",
       "  /* fitted */\n",
       "  border: var(--sklearn-color-fitted-level-1) 1pt solid;\n",
       "  color: var(--sklearn-color-fitted-level-1);\n",
       "}\n",
       "\n",
       "/* On hover */\n",
       "#sk-container-id-1 a.estimator_doc_link:hover {\n",
       "  /* unfitted */\n",
       "  background-color: var(--sklearn-color-unfitted-level-3);\n",
       "  color: var(--sklearn-color-background);\n",
       "  text-decoration: none;\n",
       "}\n",
       "\n",
       "#sk-container-id-1 a.estimator_doc_link.fitted:hover {\n",
       "  /* fitted */\n",
       "  background-color: var(--sklearn-color-fitted-level-3);\n",
       "}\n",
       "</style><div id=\"sk-container-id-1\" class=\"sk-top-container\"><div class=\"sk-text-repr-fallback\"><pre>LogisticRegression()</pre><b>In a Jupyter environment, please rerun this cell to show the HTML representation or trust the notebook. <br />On GitHub, the HTML representation is unable to render, please try loading this page with nbviewer.org.</b></div><div class=\"sk-container\" hidden><div class=\"sk-item\"><div class=\"sk-estimator fitted sk-toggleable\"><input class=\"sk-toggleable__control sk-hidden--visually\" id=\"sk-estimator-id-1\" type=\"checkbox\" checked><label for=\"sk-estimator-id-1\" class=\"sk-toggleable__label fitted sk-toggleable__label-arrow fitted\">&nbsp;&nbsp;LogisticRegression<a class=\"sk-estimator-doc-link fitted\" rel=\"noreferrer\" target=\"_blank\" href=\"https://scikit-learn.org/1.5/modules/generated/sklearn.linear_model.LogisticRegression.html\">?<span>Documentation for LogisticRegression</span></a><span class=\"sk-estimator-doc-link fitted\">i<span>Fitted</span></span></label><div class=\"sk-toggleable__content fitted\"><pre>LogisticRegression()</pre></div> </div></div></div></div>"
      ],
      "text/plain": [
       "LogisticRegression()"
      ]
     },
     "execution_count": 7,
     "metadata": {},
     "output_type": "execute_result"
    }
   ],
   "source": [
    "from sklearn.linear_model import LogisticRegression\n",
    "\n",
    "lr=LogisticRegression()\n",
    "lr.fit(X,y)"
   ]
  },
  {
   "cell_type": "code",
   "execution_count": 8,
   "metadata": {},
   "outputs": [
    {
     "data": {
      "text/plain": [
       "array([0, 0, 0, 1, 1, 1])"
      ]
     },
     "execution_count": 8,
     "metadata": {},
     "output_type": "execute_result"
    }
   ],
   "source": [
    "lr.predict(X)"
   ]
  },
  {
   "cell_type": "code",
   "execution_count": 9,
   "metadata": {},
   "outputs": [
    {
     "name": "stdout",
     "output_type": "stream",
     "text": [
      "1.0\n"
     ]
    }
   ],
   "source": [
    "print(\"{}\".format(lr.score(X,y)))"
   ]
  },
  {
   "cell_type": "markdown",
   "metadata": {},
   "source": [
    "### Overfitting"
   ]
  },
  {
   "cell_type": "markdown",
   "metadata": {},
   "source": [
    "##### While training a model we need to take care of the bias vs variance tradeoff. If the model is too simple then it will have high bias and low variance. If the model is too complex then it will have low bias and high variance. We need to find the right balance between bias and variance.\n",
    "\n",
    "##### Bias: Bias is the deviation of the model's predictions from the actual values. If the model has high bias then it will not be able to capture the underlying pattern in the data. If the model has high bias then it will have low accuracy on the training data.\n",
    "\n",
    "##### Variance: Variance is the variability of the model's predictions. If the model has high variance then it will not be able to generalize well on the new data. If the model has high variance then it will have low accuracy on the test data."
   ]
  },
  {
   "cell_type": "markdown",
   "metadata": {},
   "source": [
    "##### Overfitting: Overfitting is a situation where the model is too complex and it captures the noise in the data. Overfitting occurs when the model has low bias and high variance. Overfitting occurs when the model is too complex and it captures the noise in the data. So, we need to use regularization to prevent overfitting."
   ]
  },
  {
   "cell_type": "markdown",
   "metadata": {},
   "source": [
    "### Underfitting"
   ]
  },
  {
   "cell_type": "markdown",
   "metadata": {},
   "source": [
    "##### Underfitting is a situation where the model is too simple and it is not able to capture the underlying pattern in the data. Underfitting occurs when the model has high bias and low variance. Underfitting occurs when the model is too simple and it is not able to capture the underlying pattern in the data. "
   ]
  },
  {
   "cell_type": "markdown",
   "metadata": {},
   "source": [
    "### Ways to counter overfitting\n",
    "\n",
    "##### 1) Get more data: Getting more data is the best way to counter overfitting. If we get more data then the model will be able to generalize well on the new data. If we get more data then the model will be able to capture the underlying pattern in the data.\n",
    "\n",
    "##### 2) Feature engineering: Feature engineering is the process of using domain knowledge to extract features from raw data. We use feature engineering to create new features from the existing features. This is done to improve the performance of the model.\n",
    "\n",
    "##### 3) Regularization: In regularization we add a penalty term to the cost function. The penalty term is used to prevent overfitting. The penalty term is used to prevent the weights from becoming too large. It is like we are now adding a term to the cost function which is the sum of the squares of the weights. This is called L2 regularization. L2 regularization is used to prevent overfitting. L1 regularization is another type of regularization which is used to prevent overfitting. In L1 regularization we add the sum of the absolute values of the weights to the cost function. Basically, we add a term to the cost function on the basis of the complexity of the model."
   ]
  },
  {
   "cell_type": "markdown",
   "metadata": {},
   "source": [
    "## Cost function with regularization\n",
    "\n",
    "##### The cost function for logistic regression with L2 regularization is given by:\n",
    "$$ J(w, b) = -\\frac{1}{m} \\sum_{i=1}^{m} \\left( y_i \\log(p) + (1 - y_i) \\log(1 - p) \\right) + \\frac{\\lambda}{2m} \\sum_{j=1}^{n} w_j^2 $$\n",
    "\n",
    "##### The cost function for logistic regression with L2 regularization is the negative log likelihood of the data plus the sum of the squares of the weights. The cost function is used to measure how well the logistic regression model is performing.\n",
    "\n",
    "##### The gradient of the cost function for logistic regression with L2 regularization is given by:\n",
    "\n",
    "$$ \\nabla J(w, b) = \\frac{1}{m} \\sum_{i=1}^{m} \\left( p - y_i \\right) x_i + \\frac{\\lambda}{m} w $$\n",
    "\n",
    "##### The gradient of the cost function for logistic regression with L2 regularization is used to update the weights of the logistic regression model. The weights are updated using the gradient descent algorithm.\n",
    "\n",
    "##### The weight update rule for logistic regression with L2 regularization is given by:\n",
    "\n",
    "$$ w := w - \\alpha \\nabla J(w, b) $$\n",
    "$$ b := b - \\alpha \\nabla J(w, b) $$\n",
    "##### The weights are updated using the gradient descent algorithm. The weights are updated using the gradient of the cost function.\n",
    "\n",
    "##### The weight update rule for logistic regression with L2 regularization is the same as the weight update rule for logistic regression. The only difference is that we add a term to the gradient of the cost function which is the sum of the squares of the weights.\n",
    "\n",
    "##### The regularization parameter lambda is used to control the amount of regularization. If the regularization parameter lambda is too large then the weights will be too small and the model will underfit the data. If the regularization parameter lambda is too small then the weights will be too large and the model will overfit the data.\n",
    "\n",
    "##### The cost function with L1 regularization is given by:\n",
    "\n",
    "$$ J(w, b) = -\\frac{1}{m} \\sum_{i=1}^{m} \\left( y_i \\log(p) + (1 - y_i) \\log(1 - p) \\right) + \\frac{\\lambda}{m} \\sum_{j=1}^{n} |w_j| $$\n",
    "##### The cost function with L1 regularization is the negative log likelihood of the data plus the sum of the absolute values of the weights. The cost function is used to measure how well the logistic regression model is performing.\n",
    "\n",
    "##### The gradient of the cost function for logistic regression with L1 regularization is given by:\n",
    "\n",
    "$$ \\nabla J(w, b) = \\frac{1}{m} \\sum_{i=1}^{m} \\left( p - y_i \\right) x_i + \\frac{\\lambda}{m} \\text{sign}(w) $$\n",
    "\n",
    "##### The gradient of the cost function for logistic regression with L1 regularization is used to update the weights of the logistic regression model. The weights are updated using the gradient descent algorithm.\n",
    "\n",
    "##### The weight update rule for logistic regression with L1 regularization is given by:\n",
    "\n",
    "$$ w := w - \\alpha \\nabla J(w, b) $$\n",
    "$$ b := b - \\alpha \\nabla J(w, b) $$\n",
    "##### The weights are updated using the gradient descent algorithm. The weights are updated using the gradient of the cost function.\n",
    "\n",
    "##### The weight update rule for logistic regression with L1 regularization is the same as the weight update rule for logistic regression. The only difference is that we add a term to the gradient of the cost function which is the sum of the absolute values of the weights.\n",
    "\n",
    "\n",
    "\n"
   ]
  },
  {
   "cell_type": "markdown",
   "metadata": {},
   "source": []
  }
 ],
 "metadata": {
  "kernelspec": {
   "display_name": "Python 3",
   "language": "python",
   "name": "python3"
  },
  "language_info": {
   "codemirror_mode": {
    "name": "ipython",
    "version": 3
   },
   "file_extension": ".py",
   "mimetype": "text/x-python",
   "name": "python",
   "nbconvert_exporter": "python",
   "pygments_lexer": "ipython3",
   "version": "3.12.4"
  }
 },
 "nbformat": 4,
 "nbformat_minor": 2
}
